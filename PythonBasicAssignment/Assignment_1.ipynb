{
 "cells": [
  {
   "cell_type": "markdown",
   "id": "89e8a7cc",
   "metadata": {},
   "source": [
    "1. In the below elements which of them are values or an expression? eg:- values can be integer or string and expressions will be mathematical operators.\n",
    "\n",
    "* \n",
    "'hello'\n",
    "-87.8\n",
    "- \n",
    "/ \n",
    "+\n",
    "6\n",
    "\n",
    "\n",
    "Solution:\n",
    "\n",
    "Values are 'hello' , -87.8  and  6\n",
    "\n",
    "*   ,   -  ,  /   and + are operators\n",
    "\n",
    "\n",
    "\n",
    "\n",
    "\n",
    "Q1--> Associated Theory     other asociated topics--> opertaor precedence\n",
    "links:\n",
    "    https://www.geeksforgeeks.org/expressions-in-python/\n",
    "        \n",
    "Values: A value may be string i.e. ‘Hello, World!’ or a number like 1,2.2 ,3.5 etc.\n",
    "\n",
    "Numbers can be integer, float, complex\n",
    "String can be single quoted or double quoted,using double quotes makes it easy to include apostrophes.\n",
    "\n",
    "Expression: An expression is a combination of operators and operands\n",
    "types of expression\n",
    "Constant Expressions eg,  x =1 +2.3\n",
    "Arithmetic Expressions:\n",
    "Operators\tSyntax\tFunctioning\n",
    "+\tx + y\tAddition\n",
    "–\tx – y\tSubtraction\n",
    "*\tx * y\tMultiplication\n",
    "/\tx / y\tDivision\n",
    "//\tx // y\tQuotient\n",
    "%\tx % y\tRemainder\n",
    "**\tx ** y\tExponentiation\n",
    "eg:\n",
    "add = x + y\n",
    "sub = x - y\n",
    "pro = x * y\n",
    "div = x / y\n",
    "\n",
    "\n",
    "Integral Expressions: produce only integer results after computation\n",
    "\n",
    "Floating Expressions: produce floating point results\n",
    "\n",
    "Relational Expressions: > , < , >= , <= types, results in boolean \n",
    "\n",
    "Logical Expressions: and , or, not     \n",
    "\n",
    "eg:\n",
    "R = P and Q\n",
    "S = P or Q\n",
    "T = not P\n",
    "\n",
    "\n",
    "Bitwise Expressions: computations are performed at bit level.\n",
    "Combinational Expressions:  combination of more than one types of expressions\n",
    "\n",
    "\n"
   ]
  },
  {
   "cell_type": "markdown",
   "id": "3e10a49f",
   "metadata": {},
   "source": [
    "2. What is the difference between string and variable?\n",
    "\n",
    "String: Strings are arrays of bytes representing Unicode characters. \n",
    "        Python does not have a character data type, a single character is simply a string with a length of 1.\n",
    "        Square brackets can be used to access elements of the string.\n",
    "        \n",
    "        \n",
    "Variable: A variable is a name given to a memory location. It is the basic unit of storage in a program.\n",
    "          The value stored in a variable can be changed during program execution.\n",
    "          A variable is only a name given to a memory location all the operations done on the variable\n",
    "          effects that memory location.\n",
    "            # An integer assignment\n",
    "            age = 45\n",
    "\n",
    "            # A floating point\n",
    "            salary = 1456.8\n",
    "\n",
    "            # A string\n",
    "            name = \"John\"\n",
    "        \n",
    "        \n",
    "Therefore, String is a type of variable which stores bytes representing Unicode characters.\n",
    "\n"
   ]
  },
  {
   "cell_type": "markdown",
   "id": "936b9e5f",
   "metadata": {},
   "source": [
    "3. Describe three different data types.\n",
    "\n",
    "Data types in python:\n",
    "    Numeric: holds numeric value\n",
    "        Integers: contains positive or negative whole numbers.\n",
    "        Float: can contain floating point numbers or can specify scientific notation.\n",
    "        Complex Numbers: real + imaginary part (eg 4+5j)\n",
    "    \n",
    "    Sequence: ordered collection of similar or different data types.\n",
    "        String: Are arrays of bytes representing unicode characters.\n",
    "        List: ordered collection of data, generally of different types\n",
    "        Tuple: ordered collection of python objects, tuples are immutable i.e. tuples cannot be modified \n",
    "               after it is created.\n",
    "    \n",
    "    Boolean: Data type with one of the two built-in values, True or False. \n",
    "        \n",
    "    Set: unordered collection of data type that is iterable, mutable and has no duplicate elements. \n",
    "    \n",
    "    Dictionary : unordered collection of data values, used to store data values like a map, which unlike other Data \n",
    "                 Types that hold only single value as an element,Dictionary holds key:value pair. Key-value is \n",
    "                 provided in the dictionary to make it more optimized. \n",
    "    \n",
    "    \n",
    "    reference : https://www.geeksforgeeks.org/python-data-types/"
   ]
  },
  {
   "cell_type": "markdown",
   "id": "808cd635",
   "metadata": {},
   "source": []
  },
  {
   "cell_type": "markdown",
   "id": "dcd6c67b",
   "metadata": {},
   "source": [
    "4. What is an expression made up of? What do all expressions do?\n",
    "\n",
    "\n",
    "Solution: \n",
    "\n",
    "An expression is made up of operators and operends, expressions are evaluated based on the precidence of the operators to evaluate some other value. \n",
    "\n",
    "examples of expression are:\n",
    "\n",
    "Constant Expressions\n",
    "x = 15 + 1.3\n",
    "\n",
    "Arithmetic Expressions\n",
    "x = 40\n",
    "y = 12\n",
    "  \n",
    "add = x + y\n",
    "sub = x - y\n",
    "pro = x * y\n",
    "div = x / y\n",
    "\n",
    "Integral Expressions\n",
    "a = 13\n",
    "b = 12.0\n",
    "\n",
    "c = a + int(b)\n",
    "print(c)\n",
    "\n",
    "\n",
    "\n",
    "Floating Expressions\n",
    "a = 13\n",
    "b = 5\n",
    "\n",
    "c = a / b\n",
    "print(c)\n",
    "\n",
    "\n",
    "\n",
    "Relational Expressions\n",
    "a = 21\n",
    "b = 13\n",
    "c = 40\n",
    "d = 37\n",
    "\n",
    "p = (a + b) >= (c - d)\n",
    "print(p)\n",
    "\n",
    "\n",
    "\n",
    "P = (10 == 9)\n",
    "Q = (7 > 5)\n",
    "\n",
    "\n",
    "\n",
    "\n",
    "Logical Expressions\n",
    "R = P and Q\n",
    "S = P or Q\n",
    "T = not P\n",
    "\n",
    "print(R)\n",
    "print(S)\n",
    "print(T)\n",
    "\n",
    "\n",
    "\n",
    "\n",
    "Bitwise Expressions\n",
    "a = 12\n",
    "\n",
    "x = a >> 2\n",
    "y = a << 1\n",
    "\n",
    "print(x, y)\n",
    "\n",
    "\n",
    "\n",
    "Combinational Expressions\n",
    "a = 16\n",
    "b = 12\n",
    "\n",
    "c = a + (b >> 1)\n",
    "print(c)\n",
    "\n",
    "\n",
    "\n",
    "\n",
    "Multi-operator expression\n",
    "\n",
    "a = 10 + 3 * 4\n",
    "print(a)\n",
    "\n",
    "b = (10 + 3) * 4\n",
    "print(b)\n",
    "\n",
    "c = 10 + (3 * 4)\n",
    "print(c)\n",
    "\n",
    "\n",
    "\n",
    "\n",
    "reference: https://www.geeksforgeeks.org/expressions-in-python/"
   ]
  },
  {
   "cell_type": "markdown",
   "id": "87c6f81c",
   "metadata": {},
   "source": [
    "5. This assignment statements, like spam = 10. What is the difference between an expression and a statement?\n",
    "\n",
    "Solution:\n",
    "\n",
    "Expressions are statements, but statements may not be expressions.\n",
    "\n",
    "Expressions: An Expression is a sequence or combination of values, variables, operators and function calls that                can be reduced to some kind of \"value\", which can be any Python object.\n",
    "\n",
    "Statements: Any Instruction that a python interpreter can execute (carry out) is called a Statement. Statements               are everything that can make up a line (or several lines) of Python code.\n",
    "\n",
    "\n",
    "therefore , spam = 10  creates an integer variable (i.e. spam) and assigns a value 10 to it. As it does not      produce and value so its a statement and not an expression."
   ]
  },
  {
   "cell_type": "markdown",
   "id": "5aab9bfb",
   "metadata": {},
   "source": [
    "6. After running the following code, what does the variable bacon contain?\n",
    "bacon = 22\n",
    "bacon + 1\n",
    "\n",
    "Solution:\n",
    "\n",
    "Variable bacon will contain an inteer value equal to 22.\n",
    "bacon + 1 , if run alone it prints value 23 to console, but does not increment the actual value in the variable.\n",
    "\n",
    "\n",
    "to increment value of bacon by one we should use bacon+=1\n"
   ]
  },
  {
   "cell_type": "code",
   "execution_count": 6,
   "id": "2080161b",
   "metadata": {},
   "outputs": [
    {
     "data": {
      "text/plain": [
       "23"
      ]
     },
     "execution_count": 6,
     "metadata": {},
     "output_type": "execute_result"
    }
   ],
   "source": [
    "bacon = 22\n",
    "bacon + 1"
   ]
  },
  {
   "cell_type": "code",
   "execution_count": 7,
   "id": "25b1d42c",
   "metadata": {},
   "outputs": [
    {
     "data": {
      "text/plain": [
       "22"
      ]
     },
     "execution_count": 7,
     "metadata": {},
     "output_type": "execute_result"
    }
   ],
   "source": [
    "bacon"
   ]
  },
  {
   "cell_type": "code",
   "execution_count": 8,
   "id": "da488b4b",
   "metadata": {},
   "outputs": [],
   "source": [
    "bacon += 1"
   ]
  },
  {
   "cell_type": "code",
   "execution_count": 9,
   "id": "cb09f847",
   "metadata": {},
   "outputs": [
    {
     "data": {
      "text/plain": [
       "23"
      ]
     },
     "execution_count": 9,
     "metadata": {},
     "output_type": "execute_result"
    }
   ],
   "source": [
    "bacon"
   ]
  },
  {
   "cell_type": "markdown",
   "id": "ed75656e",
   "metadata": {},
   "source": [
    "7. What should the values of the following two terms be?\n",
    "'spam' + 'spamspam'\n",
    "'spam' * 3\n",
    "\n",
    "\n",
    "\n",
    "Solution:\n",
    "\n",
    "'spam'+'spamspam'    results in    spamspamspam\n",
    "\n",
    "also \n",
    "\n",
    "'spam' * 3 results in    spamspamspam"
   ]
  },
  {
   "cell_type": "code",
   "execution_count": 4,
   "id": "cde31909",
   "metadata": {},
   "outputs": [
    {
     "data": {
      "text/plain": [
       "'spamspamspam'"
      ]
     },
     "execution_count": 4,
     "metadata": {},
     "output_type": "execute_result"
    }
   ],
   "source": [
    "'spam'+'spamspam'"
   ]
  },
  {
   "cell_type": "code",
   "execution_count": 5,
   "id": "719557f9",
   "metadata": {},
   "outputs": [
    {
     "data": {
      "text/plain": [
       "'spamspamspam'"
      ]
     },
     "execution_count": 5,
     "metadata": {},
     "output_type": "execute_result"
    }
   ],
   "source": [
    "'spam' * 3 "
   ]
  },
  {
   "cell_type": "markdown",
   "id": "ef2e5cbc",
   "metadata": {},
   "source": [
    "8. Why is eggs a valid variable name while 100 is invalid?\n",
    "\n",
    "Solution:\n",
    "\n",
    "eggs is a valid variable name as it starts with a letter and contains only alpha-numeric, also eggs in not a reserved word.\n",
    "\n",
    "100 is not a valid variable name as it starts with a number.\n",
    "\n",
    "\n",
    "\n",
    "\n",
    "\n",
    "reference : https://www.geeksforgeeks.org/python-variables/\n",
    "\n",
    "Rules for creating variables in Python:\n",
    "\n",
    "A variable name must start with a letter or the underscore character.\n",
    "A variable name cannot start with a number.\n",
    "A variable name can only contain alpha-numeric characters and underscores (A-z, 0-9, and _ ).\n",
    "Variable names are case-sensitive (name, Name and NAME are three different variables).\n",
    "The reserved words(keywords) cannot be used naming the variable.\n"
   ]
  },
  {
   "cell_type": "markdown",
   "id": "28f991a8",
   "metadata": {},
   "source": [
    "9. What three functions can be used to get the integer, floating-point number, or string version of a value?\n",
    "\n",
    "Solution:\n",
    "\n",
    "x = 24.56\n",
    "\n",
    "int(x) gets the integer value of x. i.e. 24\n",
    "\n",
    "float(x) gets the floating-point number value of x. i.e. 24.56\n",
    "\n",
    "str(x) gets the string version of x. i.e. '24.56'\n"
   ]
  },
  {
   "cell_type": "code",
   "execution_count": 13,
   "id": "bd62fe2c",
   "metadata": {},
   "outputs": [
    {
     "data": {
      "text/plain": [
       "24"
      ]
     },
     "execution_count": 13,
     "metadata": {},
     "output_type": "execute_result"
    }
   ],
   "source": [
    "x = 24.56\n",
    "\n",
    "int(x)"
   ]
  },
  {
   "cell_type": "code",
   "execution_count": 14,
   "id": "1e28e7a2",
   "metadata": {
    "scrolled": true
   },
   "outputs": [
    {
     "data": {
      "text/plain": [
       "24.56"
      ]
     },
     "execution_count": 14,
     "metadata": {},
     "output_type": "execute_result"
    }
   ],
   "source": [
    "float(x)"
   ]
  },
  {
   "cell_type": "code",
   "execution_count": 15,
   "id": "8fed188d",
   "metadata": {},
   "outputs": [
    {
     "data": {
      "text/plain": [
       "'24.56'"
      ]
     },
     "execution_count": 15,
     "metadata": {},
     "output_type": "execute_result"
    }
   ],
   "source": [
    "str(x)"
   ]
  },
  {
   "cell_type": "code",
   "execution_count": 16,
   "id": "281495a3",
   "metadata": {},
   "outputs": [
    {
     "data": {
      "text/plain": [
       "int"
      ]
     },
     "execution_count": 16,
     "metadata": {},
     "output_type": "execute_result"
    }
   ],
   "source": [
    "type(int(x))"
   ]
  },
  {
   "cell_type": "code",
   "execution_count": 17,
   "id": "ed448b2b",
   "metadata": {},
   "outputs": [
    {
     "data": {
      "text/plain": [
       "float"
      ]
     },
     "execution_count": 17,
     "metadata": {},
     "output_type": "execute_result"
    }
   ],
   "source": [
    "type(float(x))"
   ]
  },
  {
   "cell_type": "code",
   "execution_count": 18,
   "id": "4f0e10f4",
   "metadata": {},
   "outputs": [
    {
     "data": {
      "text/plain": [
       "str"
      ]
     },
     "execution_count": 18,
     "metadata": {},
     "output_type": "execute_result"
    }
   ],
   "source": [
    "type(str(x))"
   ]
  },
  {
   "cell_type": "markdown",
   "id": "38186608",
   "metadata": {},
   "source": [
    "10. Why does this expression cause an error? How can you fix it?\n",
    "\n",
    "'I have eaten ' + 99 + ' burritos.'\n",
    "\n",
    "Solution:\n",
    "\n",
    "This expression results in concatination error, as string data types can only be concatinated to string.\n",
    "To fix this error we can add quotes to the integer value 99 to make it a string.\n",
    "\n",
    "'I have eaten '+'99'+' burritos.' "
   ]
  },
  {
   "cell_type": "code",
   "execution_count": 2,
   "id": "e9512560",
   "metadata": {},
   "outputs": [
    {
     "ename": "TypeError",
     "evalue": "can only concatenate str (not \"int\") to str",
     "output_type": "error",
     "traceback": [
      "\u001b[0;31m---------------------------------------------------------------------------\u001b[0m",
      "\u001b[0;31mTypeError\u001b[0m                                 Traceback (most recent call last)",
      "\u001b[0;32m/tmp/ipykernel_21502/4259877183.py\u001b[0m in \u001b[0;36m<module>\u001b[0;34m\u001b[0m\n\u001b[0;32m----> 1\u001b[0;31m \u001b[0;34m'I have eaten'\u001b[0m\u001b[0;34m+\u001b[0m\u001b[0;36m99\u001b[0m\u001b[0;34m+\u001b[0m\u001b[0;34m'burritos.'\u001b[0m\u001b[0;34m\u001b[0m\u001b[0;34m\u001b[0m\u001b[0m\n\u001b[0m",
      "\u001b[0;31mTypeError\u001b[0m: can only concatenate str (not \"int\") to str"
     ]
    }
   ],
   "source": [
    "'I have eaten'+99+'burritos.'"
   ]
  },
  {
   "cell_type": "code",
   "execution_count": 3,
   "id": "eaa6cb85",
   "metadata": {},
   "outputs": [
    {
     "data": {
      "text/plain": [
       "'I have eaten 99 burritos.'"
      ]
     },
     "execution_count": 3,
     "metadata": {},
     "output_type": "execute_result"
    }
   ],
   "source": [
    "'I have eaten '+'99'+' burritos.' "
   ]
  }
 ],
 "metadata": {
  "kernelspec": {
   "display_name": "Python 3 (ipykernel)",
   "language": "python",
   "name": "python3"
  },
  "language_info": {
   "codemirror_mode": {
    "name": "ipython",
    "version": 3
   },
   "file_extension": ".py",
   "mimetype": "text/x-python",
   "name": "python",
   "nbconvert_exporter": "python",
   "pygments_lexer": "ipython3",
   "version": "3.9.7"
  }
 },
 "nbformat": 4,
 "nbformat_minor": 5
}
